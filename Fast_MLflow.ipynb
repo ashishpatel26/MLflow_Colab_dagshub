{
  "nbformat": 4,
  "nbformat_minor": 0,
  "metadata": {
    "colab": {
      "provenance": []
    },
    "kernelspec": {
      "name": "python3",
      "display_name": "Python 3"
    },
    "language_info": {
      "name": "python"
    }
  },
  "cells": [
    {
      "cell_type": "markdown",
      "metadata": {
        "id": "LdSp3WikkbFk"
      },
      "source": [
        "# MLflow + Colab – Example project\n",
        "This project shows how you can easily log experiments with Google Colab, directly to an MLflow remote.\n",
        "\n",
        "It uses DAGsHub MLflow remote server, which is a free hosted MLflow remote.\n",
        "\n",
        "Instructions:\n",
        "1. [Sign up to DAGsHub](https://dagshub.com/user/sign_up)\n",
        "1. [Create an access token](https://dagshub.com/user/settings/tokens)\n",
        "1. [Create a new project](https://dagshub.com/repo/create)\n",
        "1. [Open the notebook in Google Colab](https://dagshub.com/Dean/mlflow-colab-example/src/master/mlflow-colab.ipynb)\n",
        "1. Run the cell\n",
        "1. Fill in your DAGsHub username, access token and project name.\n",
        "1. Run the visualization cell if you want to see your experiments inside Colab."
      ]
    },
    {
      "cell_type": "code",
      "metadata": {
        "id": "kXIk98FWxT6C",
        "colab": {
          "base_uri": "https://localhost:8080/"
        },
        "outputId": "2332c3b2-eea5-4925-ec60-a03987274560"
      },
      "source": [
        "!pip install mlflow --quiet\n",
        "\n",
        "import mlflow\n",
        "import os\n",
        "from getpass import getpass\n",
        "\n",
        "os.environ['MLFLOW_TRACKING_USERNAME'] = input('Enter your DAGsHub username: ')\n",
        "os.environ['MLFLOW_TRACKING_PASSWORD'] = getpass('Enter your DAGsHub access token: ')\n",
        "os.environ['MLFLOW_TRACKING_PROJECTNAME'] = input('Enter your DAGsHub project name: ')\n",
        "\n",
        "mlflow.set_tracking_uri(f'https://dagshub.com/' + os.environ['MLFLOW_TRACKING_USERNAME']\n",
        "                        + '/' + os.environ['MLFLOW_TRACKING_PROJECTNAME'] + '.mlflow')"
      ],
      "execution_count": 11,
      "outputs": [
        {
          "name": "stdout",
          "output_type": "stream",
          "text": [
            "Enter your DAGsHub username: ibm26ashish\n",
            "Enter your DAGsHub access token: ··········\n",
            "Enter your DAGsHub project name: MLFlow_mnist_keras\n"
          ]
        }
      ]
    },
    {
      "cell_type": "code",
      "source": [
        "\"\"\"Trains and evaluate a simple MLP\n",
        "on the Reuters newswire topic classification task.\n",
        "\"\"\"\n",
        "import numpy as np\n",
        "from tensorflow import keras\n",
        "from tensorflow.keras.datasets import reuters\n",
        "from tensorflow.keras.layers import Activation, Dense, Dropout\n",
        "from tensorflow.keras.models import Sequential\n",
        "from tensorflow.keras.preprocessing.text import Tokenizer\n",
        "\n",
        "# The following import and function call are the only additions to code required\n",
        "# to automatically log metrics and parameters to MLflow.\n",
        "import mlflow\n",
        "\n",
        "mlflow.tensorflow.autolog()\n",
        "\n",
        "max_words = 1000\n",
        "batch_size = 32\n",
        "epochs = 25\n",
        "\n",
        "print(\"Loading data...\")\n",
        "(x_train, y_train), (x_test, y_test) = reuters.load_data(num_words=max_words, test_split=0.2)\n",
        "\n",
        "print(len(x_train), \"train sequences\")\n",
        "print(len(x_test), \"test sequences\")\n",
        "\n",
        "num_classes = np.max(y_train) + 1\n",
        "print(num_classes, \"classes\")\n",
        "\n",
        "print(\"Vectorizing sequence data...\")\n",
        "tokenizer = Tokenizer(num_words=max_words)\n",
        "x_train = tokenizer.sequences_to_matrix(x_train, mode=\"binary\")\n",
        "x_test = tokenizer.sequences_to_matrix(x_test, mode=\"binary\")\n",
        "print(\"x_train shape:\", x_train.shape)\n",
        "print(\"x_test shape:\", x_test.shape)\n",
        "\n",
        "print(\"Convert class vector to binary class matrix (for use with categorical_crossentropy)\")\n",
        "y_train = keras.utils.to_categorical(y_train, num_classes)\n",
        "y_test = keras.utils.to_categorical(y_test, num_classes)\n",
        "print(\"y_train shape:\", y_train.shape)\n",
        "print(\"y_test shape:\", y_test.shape)\n",
        "\n",
        "print(\"Building model...\")\n",
        "model = Sequential()\n",
        "model.add(Dense(512, input_shape=(max_words,)))\n",
        "model.add(Activation(\"relu\"))\n",
        "model.add(Dropout(0.5))\n",
        "model.add(Dense(num_classes))\n",
        "model.add(Activation(\"softmax\"))\n",
        "\n",
        "model.compile(loss=\"categorical_crossentropy\", optimizer=\"adam\", metrics=[\"accuracy\"])\n",
        "\n",
        "history = model.fit(\n",
        "    x_train, y_train, batch_size=batch_size, epochs=epochs, verbose=1, validation_split=0.1\n",
        ")\n",
        "score = model.evaluate(x_test, y_test, batch_size=batch_size, verbose=1)\n",
        "print(\"Test score:\", score[0])\n",
        "print(\"Test accuracy:\", score[1])"
      ],
      "metadata": {
        "colab": {
          "base_uri": "https://localhost:8080/"
        },
        "id": "ZkZo4i8Lxj3k",
        "outputId": "75d9d0a7-7a08-4a9b-ea2a-97f5381ecb67"
      },
      "execution_count": 13,
      "outputs": [
        {
          "output_type": "stream",
          "name": "stdout",
          "text": [
            "Loading data...\n",
            "8982 train sequences\n",
            "2246 test sequences\n",
            "46 classes\n",
            "Vectorizing sequence data...\n",
            "x_train shape: (8982, 1000)\n",
            "x_test shape: (2246, 1000)\n",
            "Convert class vector to binary class matrix (for use with categorical_crossentropy)\n",
            "y_train shape: (8982, 46)\n",
            "y_test shape: (2246, 46)\n",
            "Building model...\n"
          ]
        },
        {
          "output_type": "stream",
          "name": "stderr",
          "text": [
            "2024/02/22 07:49:20 INFO mlflow.utils.autologging_utils: Created MLflow autologging run with ID '71a2e221b88a4cdd951b679a7a95a23f', which will track hyperparameters, performance metrics, model artifacts, and lineage information for the current tensorflow workflow\n"
          ]
        },
        {
          "output_type": "stream",
          "name": "stdout",
          "text": [
            "Epoch 1/25\n",
            "253/253 [==============================] - 2s 5ms/step - loss: 1.4214 - accuracy: 0.6858 - val_loss: 1.1016 - val_accuracy: 0.7620\n",
            "Epoch 2/25\n",
            "253/253 [==============================] - 1s 4ms/step - loss: 0.7863 - accuracy: 0.8097 - val_loss: 0.9508 - val_accuracy: 0.7875\n",
            "Epoch 3/25\n",
            "253/253 [==============================] - 1s 4ms/step - loss: 0.5519 - accuracy: 0.8689 - val_loss: 0.8856 - val_accuracy: 0.8009\n",
            "Epoch 4/25\n",
            "253/253 [==============================] - 1s 5ms/step - loss: 0.4165 - accuracy: 0.8945 - val_loss: 0.8750 - val_accuracy: 0.8187\n",
            "Epoch 5/25\n",
            "253/253 [==============================] - 1s 4ms/step - loss: 0.3359 - accuracy: 0.9166 - val_loss: 0.8768 - val_accuracy: 0.8131\n",
            "Epoch 6/25\n",
            "253/253 [==============================] - 1s 4ms/step - loss: 0.2737 - accuracy: 0.9316 - val_loss: 0.9330 - val_accuracy: 0.8076\n",
            "Epoch 7/25\n",
            "253/253 [==============================] - 1s 5ms/step - loss: 0.2403 - accuracy: 0.9368 - val_loss: 0.9783 - val_accuracy: 0.8087\n",
            "Epoch 8/25\n",
            "253/253 [==============================] - 1s 4ms/step - loss: 0.2140 - accuracy: 0.9421 - val_loss: 0.9783 - val_accuracy: 0.8065\n",
            "Epoch 9/25\n",
            "253/253 [==============================] - 1s 5ms/step - loss: 0.2025 - accuracy: 0.9464 - val_loss: 0.9813 - val_accuracy: 0.8087\n",
            "Epoch 10/25\n",
            "253/253 [==============================] - 2s 7ms/step - loss: 0.1899 - accuracy: 0.9464 - val_loss: 1.0048 - val_accuracy: 0.8020\n",
            "Epoch 11/25\n",
            "253/253 [==============================] - 1s 4ms/step - loss: 0.1750 - accuracy: 0.9506 - val_loss: 1.0857 - val_accuracy: 0.7909\n",
            "Epoch 12/25\n",
            "253/253 [==============================] - 1s 4ms/step - loss: 0.1787 - accuracy: 0.9514 - val_loss: 1.0457 - val_accuracy: 0.7909\n",
            "Epoch 13/25\n",
            "253/253 [==============================] - 1s 5ms/step - loss: 0.1700 - accuracy: 0.9546 - val_loss: 1.0763 - val_accuracy: 0.7887\n",
            "Epoch 14/25\n",
            "253/253 [==============================] - 1s 4ms/step - loss: 0.1633 - accuracy: 0.9548 - val_loss: 1.0522 - val_accuracy: 0.7976\n",
            "Epoch 15/25\n",
            "253/253 [==============================] - 1s 4ms/step - loss: 0.1548 - accuracy: 0.9551 - val_loss: 1.1178 - val_accuracy: 0.7953\n",
            "Epoch 16/25\n",
            "253/253 [==============================] - 1s 5ms/step - loss: 0.1531 - accuracy: 0.9571 - val_loss: 1.1204 - val_accuracy: 0.7942\n",
            "Epoch 17/25\n",
            "253/253 [==============================] - 1s 4ms/step - loss: 0.1594 - accuracy: 0.9592 - val_loss: 1.1243 - val_accuracy: 0.7964\n",
            "Epoch 18/25\n",
            "253/253 [==============================] - 1s 4ms/step - loss: 0.1478 - accuracy: 0.9590 - val_loss: 1.1722 - val_accuracy: 0.7898\n",
            "Epoch 19/25\n",
            "253/253 [==============================] - 1s 5ms/step - loss: 0.1498 - accuracy: 0.9571 - val_loss: 1.1936 - val_accuracy: 0.7887\n",
            "Epoch 20/25\n",
            "253/253 [==============================] - 1s 5ms/step - loss: 0.1469 - accuracy: 0.9568 - val_loss: 1.1897 - val_accuracy: 0.7909\n",
            "Epoch 21/25\n",
            "253/253 [==============================] - 2s 6ms/step - loss: 0.1593 - accuracy: 0.9539 - val_loss: 1.2277 - val_accuracy: 0.7820\n",
            "Epoch 22/25\n",
            "253/253 [==============================] - 1s 4ms/step - loss: 0.1477 - accuracy: 0.9579 - val_loss: 1.2067 - val_accuracy: 0.7786\n",
            "Epoch 23/25\n",
            "253/253 [==============================] - 1s 4ms/step - loss: 0.1461 - accuracy: 0.9579 - val_loss: 1.2670 - val_accuracy: 0.7942\n",
            "Epoch 24/25\n",
            "253/253 [==============================] - 1s 5ms/step - loss: 0.1484 - accuracy: 0.9590 - val_loss: 1.2570 - val_accuracy: 0.7786\n",
            "Epoch 25/25\n",
            "253/253 [==============================] - 1s 4ms/step - loss: 0.1419 - accuracy: 0.9582 - val_loss: 1.2544 - val_accuracy: 0.7842\n",
            "1/1 [==============================] - 0s 44ms/step\n",
            "71/71 [==============================] - 0s 2ms/step - loss: 1.2648 - accuracy: 0.7787\n",
            "Test score: 1.2647531032562256\n",
            "Test accuracy: 0.7787176966667175\n"
          ]
        }
      ]
    },
    {
      "cell_type": "code",
      "metadata": {
        "colab": {
          "base_uri": "https://localhost:8080/",
          "height": 621
        },
        "id": "4kK5ZgqBiMe1",
        "outputId": "967f523a-2896-4d2b-84a1-20f054c35511"
      },
      "source": [
        "# See your experiments table inside Colab!\n",
        "import IPython\n",
        "display(IPython.display.IFrame(\"https://dagshub.com/\"+ os.environ['MLFLOW_TRACKING_USERNAME']\n",
        "                        + '/' + os.environ['MLFLOW_TRACKING_PROJECTNAME'] + \"/experiments/#/\",'100%',600))"
      ],
      "execution_count": 15,
      "outputs": [
        {
          "output_type": "display_data",
          "data": {
            "text/plain": [
              "<IPython.lib.display.IFrame at 0x78add494a7a0>"
            ],
            "text/html": [
              "\n",
              "        <iframe\n",
              "            width=\"100%\"\n",
              "            height=\"600\"\n",
              "            src=\"https://dagshub.com/ibm26ashish/MLFlow_mnist_keras/experiments/#/\"\n",
              "            frameborder=\"0\"\n",
              "            allowfullscreen\n",
              "            \n",
              "        ></iframe>\n",
              "        "
            ]
          },
          "metadata": {}
        }
      ]
    },
    {
      "cell_type": "code",
      "source": [
        "!pip list | grep mlflow"
      ],
      "metadata": {
        "colab": {
          "base_uri": "https://localhost:8080/"
        },
        "id": "2g08VifY0Htm",
        "outputId": "bf2e726f-3aaa-408c-e3bb-d736fc43316a"
      },
      "execution_count": null,
      "outputs": [
        {
          "output_type": "stream",
          "name": "stdout",
          "text": [
            "mlflow                        1.22.0\n"
          ]
        }
      ]
    },
    {
      "cell_type": "code",
      "source": [],
      "metadata": {
        "id": "HbGjNsqw0y2A"
      },
      "execution_count": null,
      "outputs": []
    }
  ]
}